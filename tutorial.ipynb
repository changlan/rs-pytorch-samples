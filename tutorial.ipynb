{
 "cells": [
  {
   "cell_type": "markdown",
   "source": [
    "## Reduction Server PyTorch Tutorial\n",
    "\n",
    "This notebook is a demonstration of how to use the Reduction Server feature on Vertex AI Training."
   ],
   "metadata": {}
  },
  {
   "cell_type": "markdown",
   "source": [
    "First, install Vertex AI Python SDK"
   ],
   "metadata": {}
  },
  {
   "cell_type": "code",
   "execution_count": null,
   "source": [
    "!pip install -U google-cloud-aiplatform"
   ],
   "outputs": [],
   "metadata": {}
  },
  {
   "cell_type": "markdown",
   "source": [
    "Before you run the following scripts, make sure you run `gcloud auth application-default login` in your terminal to authenticate the SDK."
   ],
   "metadata": {}
  },
  {
   "cell_type": "code",
   "execution_count": null,
   "source": [
    "PROJECT = 'YOUR PROJECT' # Replace with your GCP project name\n",
    "REGION = 'us-central1'\n",
    "API_ENDPOINT = f'{REGION}-aiplatform.googleapis.com'\n",
    "TRAINING_IMAGE = f'gcr.io/{PROJECT}/rs-test-pytorch:latest'"
   ],
   "outputs": [],
   "metadata": {}
  },
  {
   "cell_type": "markdown",
   "source": [
    "Build the training image. See `Dockerfile` for details about how to prepare your training image for reduction servers. "
   ],
   "metadata": {}
  },
  {
   "cell_type": "code",
   "execution_count": null,
   "source": [
    "!docker build -t $TRAINING_IMAGE .\n",
    "!docker push $TRAINING_IMAGE"
   ],
   "outputs": [],
   "metadata": {}
  },
  {
   "cell_type": "markdown",
   "source": [
    "Create training jobs. In this example, we use two `a2-highgpu-8g` as worker nodes, and 8 `n1-highcpu-16` as reducer nodes."
   ],
   "metadata": {}
  },
  {
   "cell_type": "code",
   "execution_count": null,
   "source": [
    "from google.cloud import aiplatform, aiplatform_v1beta1\n",
    "\n",
    "aiplatform.init(\n",
    "    # your Google Cloud Project ID or number environment default used is not set\n",
    "    project=PROJECT,\n",
    "\n",
    "    # the Vertex AI region you will use defaults to us-central1\n",
    "    location=REGION,\n",
    ")\n",
    "\n",
    "custom_job_spec = {\n",
    "   'display_name': 'reduction-server-job',\n",
    "   'job_spec': {\n",
    "       'worker_pool_specs': [\n",
    "           {\n",
    "               'container_spec': {\n",
    "                   'image_uri': TRAINING_IMAGE\n",
    "                },\n",
    "                'machine_spec': {\n",
    "                    'accelerator_count': 8,\n",
    "                    'accelerator_type': 'NVIDIA_TESLA_A100',\n",
    "                    'machine_type': 'a2-highgpu-8g'\n",
    "                },\n",
    "                'replica_count': 1\n",
    "            },\n",
    "            {\n",
    "                'container_spec': {\n",
    "                    'image_uri': TRAINING_IMAGE\n",
    "                },\n",
    "                'machine_spec': {\n",
    "                    'accelerator_count': 8,\n",
    "                    'accelerator_type': 'NVIDIA_TESLA_A100',\n",
    "                    'machine_type': 'a2-highgpu-8g'\n",
    "                },\n",
    "                'replica_count': 1\n",
    "            },\n",
    "            {\n",
    "                'container_spec': {\n",
    "                    'image_uri': 'us-docker.pkg.dev/vertex-ai-restricted/training/reductionserver:latest'\n",
    "                },\n",
    "                'machine_spec': {\n",
    "                    'machine_type': 'n1-highcpu-16'\n",
    "                },\n",
    "                'replica_count': 8\n",
    "            },\n",
    "        ]\n",
    "   }\n",
    "}\n",
    "\n",
    "options = dict(api_endpoint=API_ENDPOINT)\n",
    "client = aiplatform_v1beta1.services.job_service.JobServiceClient(client_options=options)\n",
    "parent = f\"projects/{PROJECT}/locations/{REGION}\"\n",
    "client.create_custom_job(\n",
    "   parent=parent, custom_job=custom_job_spec\n",
    ")\n"
   ],
   "outputs": [],
   "metadata": {}
  },
  {
   "cell_type": "markdown",
   "source": [
    "Now you should be able to see your training job on Cloud Console."
   ],
   "metadata": {}
  }
 ],
 "metadata": {
  "orig_nbformat": 4,
  "language_info": {
   "name": "python",
   "version": "3.9.2",
   "mimetype": "text/x-python",
   "codemirror_mode": {
    "name": "ipython",
    "version": 3
   },
   "pygments_lexer": "ipython3",
   "nbconvert_exporter": "python",
   "file_extension": ".py"
  },
  "kernelspec": {
   "name": "python3",
   "display_name": "Python 3.9.2 64-bit"
  },
  "interpreter": {
   "hash": "31f2aee4e71d21fbe5cf8b01ff0e069b9275f58929596ceb00d14d90e3e16cd6"
  }
 },
 "nbformat": 4,
 "nbformat_minor": 2
}